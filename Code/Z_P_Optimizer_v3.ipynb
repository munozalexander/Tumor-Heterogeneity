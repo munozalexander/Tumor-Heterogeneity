{
 "cells": [
  {
   "cell_type": "markdown",
   "metadata": {},
   "source": [
    "# Z P Optimizer\n",
    "\n",
    "### Alexander Munoz, Emily Simons, Margaux Hujoel"
   ]
  },
  {
   "cell_type": "code",
   "execution_count": 180,
   "metadata": {
    "collapsed": false
   },
   "outputs": [],
   "source": [
    "%matplotlib inline\n",
    "import matplotlib.pyplot as plt\n",
    "import numpy as np\n",
    "import pandas as pd\n",
    "from scipy.stats import mode\n",
    "import itertools\n",
    "from z_matrix import create_Z\n",
    "from simulator import Simulator\n",
    "from collections import Counter"
   ]
  },
  {
   "cell_type": "markdown",
   "metadata": {},
   "source": [
    "## Implementation"
   ]
  },
  {
   "cell_type": "code",
   "execution_count": 327,
   "metadata": {
    "collapsed": false
   },
   "outputs": [],
   "source": [
    "class Z_P_Optimizer(object):\n",
    "    ''' \n",
    "    Generates a C from standard uniform, then determines corresponding Z and P\n",
    "    - N is number of loci,\n",
    "    - M is number of samples,\n",
    "    - C_num is number of clustered clones\n",
    "    '''\n",
    "    \n",
    "    def __init__(self, loci_num=5, samples_num=5, clones_num=3):\n",
    "        self.N = loci_num\n",
    "        self.M = samples_num\n",
    "        self.C_num = clones_num\n",
    "    \n",
    "    def __possible_M_cols_helper(self, clone_num):\n",
    "        ''' Generate possible M matrix columns '''\n",
    "        if clone_num == 0:\n",
    "            return np.array([])\n",
    "        start = np.array([1 for i in range(clone_num)])\n",
    "        possibles = [start]\n",
    "        for i in range(clone_num-1):\n",
    "            new_possibles = []\n",
    "            for p in possibles:\n",
    "                curr_adder = np.array([0 for j in range(i+1)] + \\\n",
    "                                      [1 for j in range(clone_num-(i+1))])\n",
    "                new_possibles.append(p + curr_adder)\n",
    "            possibles += new_possibles\n",
    "        possibles += [np.append(j,0) for j in self.__possible_M_cols_helper(clone_num-1)]\n",
    "        return possibles\n",
    "\n",
    "    def __possible_M_cols(self, clone_num, prev_max_index=0):\n",
    "        ''' Generate possible M matrix columns given previous column's max index '''\n",
    "        old_possibles = self.__possible_M_cols_helper(clone_num)\n",
    "        new_possibles = []\n",
    "        for p in old_possibles:\n",
    "            adder = np.zeros(clone_num)\n",
    "            adder[np.nonzero(p)[0]] = prev_max_index\n",
    "            new_possibles.append(p + adder)\n",
    "        new_possibles +=  [np.array([0. for j in range(clone_num)])]\n",
    "        return new_possibles\n",
    "    \n",
    "    def __stochastic_Ms_helper(self, empty_clones, prev_max):\n",
    "        ''' select a stochastic M '''\n",
    "        if prev_max == self.N or empty_clones == self.C_num:\n",
    "            return np.zeros((self.C_num, 1))\n",
    "        curr_poss_cols = self.__possible_M_cols(self.C_num-empty_clones, prev_max)\n",
    "        looping = True\n",
    "        while looping:\n",
    "            random_col_truncated = curr_poss_cols[np.random.choice(len(curr_poss_cols))]\n",
    "            random_col = np.concatenate((random_col_truncated, np.zeros(empty_clones)))\n",
    "            if max(random_col) <= self.N:\n",
    "                looping = False\n",
    "        zero_inds = np.where(random_col==0)[0]\n",
    "        if len(zero_inds > 0):\n",
    "            new_empties = self.C_num - min(zero_inds)\n",
    "        else:\n",
    "            new_empties = 0\n",
    "        return np.column_stack((random_col, \\\n",
    "                                self.__stochastic_Ms_helper(empty_clones=new_empties, prev_max=max(random_col))))\n",
    "    \n",
    "    def __validate_M(self, M_org):\n",
    "        ''' Reorder an M for common mutations on left, then check for perfect phylogency (mutations arise once)'''\n",
    "        M_new = M_org\n",
    "        curr_swap_col = 0\n",
    "        for row_count in range(M_org.shape[0]): #first swap columns for most common mutations on left\n",
    "            for col_num in range(M_org.shape[1]):\n",
    "                curr_col = M_new[:,col_num]\n",
    "                if row_count == 0 and len(set(curr_col)) == 1 and curr_col[0] != 0:\n",
    "                    M_new[:,[curr_swap_col, col_num]] = M_new[:,[col_num, curr_swap_col]]\n",
    "                    curr_swap_col += 1\n",
    "                elif row_count > 0 and set(curr_col[-1*row_count:]) == {0} \\\n",
    "                                   and len(set(curr_col[:-1*row_count])) == 1 and curr_col[0] != 0:\n",
    "                    M_new[:,[curr_swap_col, col_num]] = M_new[:,[col_num, curr_swap_col]]\n",
    "                    curr_swap_col += 1\n",
    "        curr_swap = 1 #order feature enumeration by mutation count\n",
    "        for search_req in np.arange(2,M_org.shape[0]+1,1)[::-1]:\n",
    "            for col_num in range(M_org.shape[1]):\n",
    "                for p in Counter([a for a in M_new[:,col_num] if a!=0]).most_common():\n",
    "                    if p[0] in np.arange(1,curr_swap,1):\n",
    "                        pass\n",
    "                    elif p[1] == search_req and p[0] == curr_swap:\n",
    "                        curr_swap += 1\n",
    "                    elif p[1] == search_req and p[0] != curr_swap:\n",
    "                        for col_num_adj in range(M_org.shape[1]):\n",
    "                            olds = np.where(M_new[:,col_num_adj]==curr_swap)[0]\n",
    "                            if olds.size != 0:\n",
    "                                M_new[:,col_num_adj] = [p[0] if a==curr_swap else a for a in M_new[:,col_num_adj]]\n",
    "                                break\n",
    "                        M_new[:,col_num] = [curr_swap if a==p[0] else a for a in M_new[:,col_num]]\n",
    "                        curr_swap += 1\n",
    "        for row_num in range(M_org.shape[0]): #then sort by feature number & shift zeros to the right of a given row\n",
    "            curr_row = M_new[row_num, :]\n",
    "            new_row = np.concatenate((np.sort(curr_row[curr_row!=0]), curr_row[curr_row==0]))\n",
    "            M_new[row_num, :] = new_row\n",
    "        possible_vals = set(np.arange(np.amax(M_tst_new))+1) #now validate each number appears in only one column\n",
    "        for col_num in range(M_org.shape[1]):\n",
    "            curr_col = set(M_new[:,col_num])-{0}\n",
    "            if curr_col.issubset(possible_vals):\n",
    "                possible_vals = possible_vals - curr_col\n",
    "            else:\n",
    "                return (False, M_new)\n",
    "        return (True, M_new)\n",
    "\n",
    "    def __stochastic_Ms(self, Ms_count):\n",
    "        ''' select multiple stochastic Ms '''\n",
    "        Ms = []\n",
    "        for i in range(Ms_count):\n",
    "            unordered_M = self.__stochastic_Ms_helper(empty_clones=0, prev_max=0)\n",
    "            b, ordered_M = self.__validate_M(M_org = unordered_M)\n",
    "            if b:\n",
    "                Ms.append(ordered_M)\n",
    "        return Ms\n",
    "    \n",
    "    def __stochastic_Zs(self, Zs_count):\n",
    "        ''' generate multiple stochastic Ms then the corresponding Zs '''\n",
    "        stochastic_Ms = self.__stochastic_Ms(Ms_count=Zs_count)\n",
    "        stochastic_Zs = []\n",
    "        for stochastic_M in stochastic_Ms:\n",
    "            stochastic_Z = np.zeros((self.N, self.C_num))\n",
    "            for curr_clone_num in range(self.C_num):\n",
    "                m_row = stochastic_M[curr_clone_num, :]\n",
    "                called_indices = [a-1 for a in m_row.astype('int')]\n",
    "                called_indices = list(filter(lambda x: x >= 0, called_indices))\n",
    "                stochastic_Z[called_indices, curr_clone_num] = 1\n",
    "            stochastic_Zs.append(stochastic_Z)\n",
    "        return stochastic_Zs\n",
    "    \n",
    "    def __draw_C_matrix(self, print_bool=False):\n",
    "        ''' Draw a C matrix from standard uniform given dimensions '''\n",
    "        C_matrix = np.zeros((self.N, self.M))\n",
    "        for row in range(self.N):\n",
    "            for col in range(self.M):\n",
    "                C_matrix[row][col] = np.random.uniform()\n",
    "        if print_bool:\n",
    "            print(C_matrix)\n",
    "        return C_matrix\n",
    "    \n",
    "    def draw_P_matrix(self, print_bool=False):\n",
    "        ''' Draw a valid P matrix from standard uniform by forcing columns to sum to 1 '''\n",
    "        P_matrix = np.zeros((self.C_num, self.M))\n",
    "        for col_idx in range(self.M):\n",
    "            curr_col = np.array([np.random.uniform() for j in range(self.C_num)])\n",
    "            P_matrix[:,col_idx] = curr_col / np.sum(curr_col)\n",
    "        if print_bool:\n",
    "            print(P_matrix)\n",
    "        return P_matrix\n",
    "    \n",
    "    def __scale_P(self, P_in, print_bool=False):\n",
    "        ''' Create a valid P matrix by dropping negative probabilities and forcing columns to sum to 1 '''\n",
    "        P_out = np.zeros((self.C_num, self.M))\n",
    "        for col_num in range(self.M):\n",
    "            curr_col = P_in[:,col_num]\n",
    "            dropped_negs = [c if c>0 else 0 for c in curr_col]\n",
    "            if np.sum(dropped_negs) != 0:\n",
    "                scaled = dropped_negs / np.sum(dropped_negs)\n",
    "            else:\n",
    "                scaled = dropped_negs\n",
    "            P_out[:,col_num] = scaled\n",
    "        if print_bool:\n",
    "            print(P_out)\n",
    "        return P_out\n",
    "    \n",
    "    def __generate_Zs_Ps_error(self, Zs_count=1000, C_in=None):\n",
    "        ''' Generate corresponding P matrices from Z and C\n",
    "            Returns Zs, valid Ps, and sum of residuals (squared Euclidean 2-norm) '''\n",
    "        if C_in is None:\n",
    "            C_matrix = self.__draw_C_matrix()\n",
    "        else:\n",
    "            C_matrix = C_in\n",
    "        possible_Zs = self.__stochastic_Zs(Zs_count=Zs_count)\n",
    "        possible_Ps = []\n",
    "        errors = []\n",
    "        for possible_Z in possible_Zs:\n",
    "            curr_P_solved = np.linalg.lstsq(possible_Z, C_matrix)\n",
    "            curr_P_scaled = self.__scale_P(curr_P_solved[0])\n",
    "            curr_resids = (C_matrix - np.dot(possible_Z, curr_P_scaled))**2\n",
    "            curr_error = np.sum(np.sum(curr_resids))\n",
    "            possible_Ps.append(curr_P_scaled)\n",
    "            errors.append(curr_error)\n",
    "        return (possible_Zs, possible_Ps, errors)\n",
    "        \n",
    "    def optimal_Z_P(self, C_in=None, Zs_count=1000, return_dict=False, print_bool=False):\n",
    "        ''' Generate optimal Z and P given a generated C, or pass in C as input '''\n",
    "        if C_in is None:\n",
    "            C_matrix = self.__draw_C_matrix()\n",
    "        else:\n",
    "            C_matrix = C_in\n",
    "        Zs, Ps, errs = self.__generate_Zs_Ps_error(C_in=C_in, Zs_count=Zs_count)\n",
    "        min_index = np.argmin(errs)\n",
    "        optimals = Zs[min_index], Ps[min_index], errs[min_index]\n",
    "        if print_bool:\n",
    "            print('Input C:')\n",
    "            for row in C_matrix:\n",
    "                print(row)\n",
    "            print()\n",
    "            print('Optimal Z:')\n",
    "            for row in Zs[min_index]:\n",
    "                print(row)\n",
    "            print()\n",
    "            print('Optimal P:')\n",
    "            for row in Ps[min_index]:\n",
    "                print(row)\n",
    "            print()\n",
    "            print('Error:')\n",
    "            print(errs[min_index])\n",
    "        if return_dict:\n",
    "            return {'optimals':optimals , 'Zs':Zs, 'errors':errs}\n",
    "        else:\n",
    "            return optimals\n",
    "    \n",
    "    def plot_errors(self, C_in=None, Zs_count=1000):\n",
    "        ''' Plot error graph (x-axis is enumerated Z, y-axis is sum of residuals) '''\n",
    "        Zs, Ps, errs = self.__generate_Zs_Ps_error(C_in=C_in, Zs_count=Zs_count)\n",
    "        plt.figure()\n",
    "        plt.plot(errs)\n",
    "        plt.title('Sum of Squared Euclidean 2-Norms Vs Enumerated Z')\n",
    "        plt.xlabel('Enumerated Z index')\n",
    "        plt.ylabel('Sum of Residuals')\n",
    "        plt.show()\n"
   ]
  },
  {
   "cell_type": "markdown",
   "metadata": {},
   "source": [
    "## Gerlinger Data and Confirmation of Methodology"
   ]
  },
  {
   "cell_type": "code",
   "execution_count": 460,
   "metadata": {
    "collapsed": false
   },
   "outputs": [
    {
     "name": "stdout",
     "output_type": "stream",
     "text": [
      "Loci genotyped: ['PBRM1', 'VHL', 'PTENsplice', 'PTENmis', 'TP53']\n"
     ]
    },
    {
     "data": {
      "text/html": [
       "<div>\n",
       "<table border=\"1\" class=\"dataframe\">\n",
       "  <thead>\n",
       "    <tr style=\"text-align: right;\">\n",
       "      <th></th>\n",
       "      <th>R3</th>\n",
       "      <th>R7</th>\n",
       "      <th>R1</th>\n",
       "      <th>M</th>\n",
       "    </tr>\n",
       "  </thead>\n",
       "  <tbody>\n",
       "    <tr>\n",
       "      <th>0</th>\n",
       "      <td>1</td>\n",
       "      <td>1</td>\n",
       "      <td>1</td>\n",
       "      <td>1</td>\n",
       "    </tr>\n",
       "    <tr>\n",
       "      <th>1</th>\n",
       "      <td>1</td>\n",
       "      <td>1</td>\n",
       "      <td>1</td>\n",
       "      <td>1</td>\n",
       "    </tr>\n",
       "    <tr>\n",
       "      <th>2</th>\n",
       "      <td>1</td>\n",
       "      <td>0</td>\n",
       "      <td>0</td>\n",
       "      <td>0</td>\n",
       "    </tr>\n",
       "    <tr>\n",
       "      <th>4</th>\n",
       "      <td>0</td>\n",
       "      <td>1</td>\n",
       "      <td>0</td>\n",
       "      <td>0</td>\n",
       "    </tr>\n",
       "    <tr>\n",
       "      <th>6</th>\n",
       "      <td>0</td>\n",
       "      <td>0</td>\n",
       "      <td>0</td>\n",
       "      <td>1</td>\n",
       "    </tr>\n",
       "  </tbody>\n",
       "</table>\n",
       "</div>"
      ],
      "text/plain": [
       "   R3  R7  R1  M\n",
       "0   1   1   1  1\n",
       "1   1   1   1  1\n",
       "2   1   0   0  0\n",
       "4   0   1   0  0\n",
       "6   0   0   0  1"
      ]
     },
     "execution_count": 460,
     "metadata": {},
     "output_type": "execute_result"
    }
   ],
   "source": [
    "Gerlinger_data = pd.read_csv('Data/Gerlinger.csv')\n",
    "loci = [0,1,2,4,6]\n",
    "Gerlinger_Z = Gerlinger_data.ix[loci,[3,6,7,9]]\n",
    "opt = Z_P_Optimizer(loci_num=len(loci), samples_num=3, clones_num=4)\n",
    "P = opt.draw_P_matrix()\n",
    "C = np.dot(Gerlinger_Z, P)\n",
    "print('Loci genotyped:', list(Gerlinger_data.ix[loci,1]))\n",
    "Gerlinger_Z"
   ]
  },
  {
   "cell_type": "code",
   "execution_count": 449,
   "metadata": {
    "collapsed": false
   },
   "outputs": [
    {
     "data": {
      "text/plain": [
       "array([[ 1.,  1.,  1.,  1.],\n",
       "       [ 1.,  1.,  1.,  1.],\n",
       "       [ 1.,  0.,  0.,  0.],\n",
       "       [ 0.,  1.,  0.,  0.],\n",
       "       [ 0.,  0.,  1.,  0.]])"
      ]
     },
     "execution_count": 449,
     "metadata": {},
     "output_type": "execute_result"
    }
   ],
   "source": [
    "opt_z, opt_p, opt_err = opt.optimal_Z_P(C_in=C, Zs_count=5000)\n",
    "opt_z"
   ]
  },
  {
   "cell_type": "code",
   "execution_count": 74,
   "metadata": {
    "collapsed": false,
    "scrolled": true
   },
   "outputs": [
    {
     "data": {
      "image/png": "[encoded data removed]",
      "text/plain": [
       "<matplotlib.figure.Figure at 0x10d7dc0f0>"
      ]
     },
     "metadata": {},
     "output_type": "display_data"
    }
   ],
   "source": [
    "opt.plot_errors(C_in=C, Zs_count=100)"
   ]
  },
  {
   "cell_type": "code",
   "execution_count": 75,
   "metadata": {
    "collapsed": false,
    "scrolled": true
   },
   "outputs": [
    {
     "data": {
      "image/png": "[encoded data removed]",
      "text/plain": [
       "<matplotlib.figure.Figure at 0x10d356cc0>"
      ]
     },
     "metadata": {},
     "output_type": "display_data"
    }
   ],
   "source": [
    "opt.plot_errors(C_in=C, Zs_count=5000)"
   ]
  },
  {
   "cell_type": "code",
   "execution_count": 155,
   "metadata": {
    "collapsed": false
   },
   "outputs": [
    {
     "data": {
      "image/png": "[encoded data removed]",
      "text/plain": [
       "<matplotlib.figure.Figure at 0x11251d860>"
      ]
     },
     "metadata": {},
     "output_type": "display_data"
    }
   ],
   "source": [
    "errors = []\n",
    "for i in range(10000):\n",
    "    z_opt, p_opt, err_opt = opt.optimal_Z_P(Zs_count=1)\n",
    "    if len(errors) > 0:\n",
    "        errors.append(min([err_opt, errors[-1]]))\n",
    "    else:\n",
    "        errors.append(err_opt)\n",
    "plt.figure()\n",
    "plt.plot(errors)\n",
    "plt.xlabel('Number of Z matrices generated')\n",
    "plt.ylabel('Minimum Euclidean 2-Norm Error')\n",
    "plt.title('Error vs Number of Zs')\n",
    "plt.show()"
   ]
  },
  {
   "cell_type": "code",
   "execution_count": 320,
   "metadata": {
    "collapsed": false
   },
   "outputs": [
    {
     "name": "stdout",
     "output_type": "stream",
     "text": [
      "2, 3, 4, 5, 6, 7, 8, 9, 10, done.\n"
     ]
    }
   ],
   "source": [
    "errors = []\n",
    "clone_range = np.arange(2,11,1)\n",
    "for clone_count in clone_range:\n",
    "    opt = Z_P_Optimizer(loci_num=5, samples_num=3, clones_num=clone_count)\n",
    "    z_opt, p_opt, err_opt = opt.optimal_Z_P(C_in=C, Zs_count=5000)\n",
    "    errors.append(err_opt)\n",
    "    print(clone_count, end=\", \")\n",
    "print(\"done.\")"
   ]
  },
  {
   "cell_type": "code",
   "execution_count": 322,
   "metadata": {
    "collapsed": false,
    "scrolled": true
   },
   "outputs": [
    {
     "data": {
      "image/png": "[encoded data removed]",
      "text/plain": [
       "<matplotlib.figure.Figure at 0x112eb5668>"
      ]
     },
     "metadata": {},
     "output_type": "display_data"
    }
   ],
   "source": [
    "plt.figure()\n",
    "aic = 100*np.log(np.array(errors))+2*clone_range\n",
    "plt.plot(clone_range, aic)\n",
    "plt.ylabel('Akaike\\'s Information Criterion')\n",
    "plt.xlabel('Number of clones')\n",
    "plt.title('AIC vs Number of Clones')\n",
    "plt.show()"
   ]
  },
  {
   "cell_type": "markdown",
   "metadata": {},
   "source": [
    "## Another Example"
   ]
  },
  {
   "cell_type": "code",
   "execution_count": 303,
   "metadata": {
    "collapsed": false
   },
   "outputs": [
    {
     "name": "stdout",
     "output_type": "stream",
     "text": [
      "[[1 0 0]\n",
      " [0 1 1]\n",
      " [0 1 0]\n",
      " [0 0 1]]\n"
     ]
    }
   ],
   "source": [
    "Z = np.array([[1,0,0],[0,1,1],[0,1,0],[0,0,1]])\n",
    "opt = Z_P_Optimizer(loci_num=4, samples_num=3, clones_num=3)\n",
    "P = opt.draw_P_matrix()\n",
    "C = np.dot(Z, P)\n",
    "print(Z)"
   ]
  },
  {
   "cell_type": "code",
   "execution_count": 304,
   "metadata": {
    "collapsed": false
   },
   "outputs": [
    {
     "data": {
      "text/plain": [
       "array([[ 1.,  1.,  0.],\n",
       "       [ 0.,  0.,  1.],\n",
       "       [ 1.,  0.,  0.],\n",
       "       [ 0.,  1.,  0.]])"
      ]
     },
     "execution_count": 304,
     "metadata": {},
     "output_type": "execute_result"
    }
   ],
   "source": [
    "opt_z, opt_p, opt_err = opt.optimal_Z_P(C_in=C, Zs_count=5000)\n",
    "opt_z"
   ]
  },
  {
   "cell_type": "markdown",
   "metadata": {},
   "source": [
    "## Top Zs"
   ]
  },
  {
   "cell_type": "code",
   "execution_count": 462,
   "metadata": {
    "collapsed": false,
    "scrolled": false
   },
   "outputs": [
    {
     "name": "stdout",
     "output_type": "stream",
     "text": [
      "[[ 1.  1.  1.  1.]\n",
      " [ 1.  1.  1.  0.]\n",
      " [ 0.  1.  0.  0.]\n",
      " [ 0.  0.  1.  0.]\n",
      " [ 1.  0.  0.  0.]]\n",
      "\n",
      "\n",
      "[[ 1.  1.  1.  1.]\n",
      " [ 1.  1.  1.  0.]\n",
      " [ 1.  0.  0.  0.]\n",
      " [ 0.  1.  0.  0.]\n",
      " [ 0.  0.  1.  0.]]\n",
      "\n",
      "\n",
      "[[ 1.  1.  1.  1.]\n",
      " [ 1.  1.  1.  1.]\n",
      " [ 0.  1.  1.  0.]\n",
      " [ 0.  0.  0.  1.]\n",
      " [ 1.  0.  0.  0.]]\n",
      "\n",
      "\n",
      "[[ 1.  1.  1.  1.]\n",
      " [ 1.  1.  1.  1.]\n",
      " [ 1.  1.  0.  0.]\n",
      " [ 0.  0.  1.  0.]\n",
      " [ 0.  0.  0.  1.]]\n",
      "\n",
      "\n",
      "[[ 1.  1.  1.  1.]\n",
      " [ 1.  1.  1.  1.]\n",
      " [ 0.  0.  1.  1.]\n",
      " [ 1.  0.  0.  0.]\n",
      " [ 0.  1.  0.  0.]]\n",
      "\n",
      "\n"
     ]
    }
   ],
   "source": [
    "return_dict = opt.optimal_Z_P(C_in=C, Zs_count=5000, return_dict=True)\n",
    "set_Zs, set_idx = np.unique([np.array_str(a) for a in return_dict['Zs']], return_index=True)\n",
    "top_errs = np.argsort(np.array(return_dict['errors'])[set_idx])[:5]\n",
    "for Z_curr in set_Zs[top_errs]:\n",
    "    print(Z_curr)\n",
    "    print('\\n')"
   ]
  },
  {
   "cell_type": "code",
   "execution_count": null,
   "metadata": {
    "collapsed": true
   },
   "outputs": [],
   "source": []
  }
 ],
 "metadata": {
  "anaconda-cloud": {},
  "kernelspec": {
   "display_name": "Python [python3]",
   "language": "python",
   "name": "Python [python3]"
  },
  "language_info": {
   "codemirror_mode": {
    "name": "ipython",
    "version": 3
   },
   "file_extension": ".py",
   "mimetype": "text/x-python",
   "name": "python",
   "nbconvert_exporter": "python",
   "pygments_lexer": "ipython3",
   "version": "3.5.2"
  }
 },
 "nbformat": 4,
 "nbformat_minor": 0
}
