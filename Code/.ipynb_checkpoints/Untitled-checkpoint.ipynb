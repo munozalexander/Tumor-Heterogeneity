{
 "cells": [
  {
   "cell_type": "code",
   "execution_count": null,
   "metadata": {
    "collapsed": true
   },
   "outputs": [],
   "source": [
    "import numpy as np\n",
    "\n",
    "def create_Z (num_clones, clone_muts):\n",
    "    '''\n",
    "    num_clones: int for number of clones in [3,4,5]\n",
    "    clone_muts:\n",
    "    if num_clones==3: [ c1,c2,c3,\n",
    "                        c1c2,c1c3,c2c3,\n",
    "                        c1c2c3 ]\n",
    "    if num_clones==4: [ c1,c2,c3,c4\n",
    "                        c1c2,c1c3,c1c4,c2c3,c2c4,c3c4,\n",
    "                        c1c2c3,c1c2c4,c1c3c4,c2c3c4,\n",
    "                        c1c2c3c4 ]\n",
    "    if num_clones==5: [ c1,c2,c3,c4,c5\n",
    "                        c1c2,c1c3,c1c4,c1c5,c2c3,c2c4,c2c5,c3c4,c3c5,c4c5,\n",
    "                        c1c2c3,c1c2c4,c1c2c5,c1c3c4,c1c3c5,c1c4c5,c2c3c4,c2c3c5,c2c4c5,c3c4c5,\n",
    "                        c1c2c3c4,c1c2c3c5,c1c2c4c5,c1c3c4c5,c2c3c4c5,\n",
    "                        c1c2c3c4c5 ]\n",
    "\n",
    "    '''\n",
    "    z_mat = np.zeros()\n",
    "    if len(clone_muts) != (2**num_clones - 1): #2^n-1 possible subsets of clones\n",
    "        print(\"Invalid clone_muts list size!\")\n",
    "        return\n",
    "\n",
    "    if arg1 == 3:\n",
    "        for x in range(arg2[0]):\n",
    "            dist.append([0,1,0,0])\n",
    "        for x in range(arg2[1]):\n",
    "            dist.append([0,0,1,0])\n",
    "        for x in range(arg2[2]):\n",
    "            dist.append([0,0,0,1])\n",
    "        for x in range(arg2[3]):\n",
    "            dist.append([0,1,1,0])\n",
    "        for x in range(arg2[4]):\n",
    "            dist.append([0,1,0,1])\n",
    "        for x in range(arg2[5]):\n",
    "            dist.append([0,0,1,1])\n",
    "        for x in range(arg2[6]):\n",
    "            dist.append([0,1,1,1])\n",
    "    elif arg1 == 4:\n",
    "        for x in range(arg2[0]):\n",
    "            dist.append([0,1,0,0,0])\n",
    "        for x in range(arg2[1]):\n",
    "            dist.append([0,0,1,0,0])\n",
    "        for x in range(arg2[2]):\n",
    "            dist.append([0,0,0,1,0])\n",
    "        for x in range(arg2[3]):\n",
    "            dist.append([0,0,0,0,1])\n",
    "        for x in range(arg2[4]):\n",
    "            dist.append([0,1,1,0,0])\n",
    "        for x in range(arg2[5]):\n",
    "            dist.append([0,1,0,1,0])\n",
    "        for x in range(arg2[6]):\n",
    "            dist.append([0,1,0,0,1])\n",
    "        for x in range(arg2[7]):\n",
    "            dist.append([0,0,1,1,0])\n",
    "        for x in range(arg2[8]):\n",
    "            dist.append([0,0,1,0,1])\n",
    "        for x in range(arg2[9]):\n",
    "            dist.append([0,0,0,1,1])\n",
    "        for x in range(arg2[10]):\n",
    "            dist.append([0,1,1,1,0])\n",
    "        for x in range(arg2[11]):\n",
    "            dist.append([0,1,1,0,1])\n",
    "        for x in range(arg2[12]):\n",
    "            dist.append([0,1,0,1,1])\n",
    "        for x in range(arg2[13]):\n",
    "            dist.append([0,0,1,1,1])\n",
    "        for x in range(arg2[14]):\n",
    "            dist.append([0,1,1,1,1])\n",
    "    else:\n",
    "        for x in range(arg2[0]):\n",
    "            dist.append([0,1,0,0,0,0])\n",
    "        for x in range(arg2[1]):\n",
    "            dist.append([0,0,1,0,0,0])\n",
    "        for x in range(arg2[2]):\n",
    "            dist.append([0,0,0,1,0,0])\n",
    "        for x in range(arg2[3]):\n",
    "            dist.append([0,0,0,0,1,0])\n",
    "        for x in range(arg2[4]):\n",
    "            dist.append([0,0,0,0,0,1])\n",
    "        for x in range(arg2[5]):\n",
    "            dist.append([0,1,1,0,0,0])\n",
    "        for x in range(arg2[6]):\n",
    "            dist.append([0,1,0,1,0,0])\n",
    "        for x in range(arg2[7]):\n",
    "            dist.append([0,1,0,0,1,0])\n",
    "        for x in range(arg2[8]):\n",
    "            dist.append([0,1,0,0,0,1])\n",
    "        for x in range(arg2[9]):\n",
    "            dist.append([0,0,1,1,0,0])\n",
    "        for x in range(arg2[10]):\n",
    "            dist.append([0,0,1,0,1,0])\n",
    "        for x in range(arg2[11]):\n",
    "            dist.append([0,0,1,0,0,1])\n",
    "        for x in range(arg2[12]):\n",
    "            dist.append([0,0,0,1,1,0])\n",
    "        for x in range(arg2[13]):\n",
    "            dist.append([0,0,0,1,0,1])\n",
    "        for x in range(arg2[14]):\n",
    "            dist.append([0,0,0,0,1,1])\n",
    "        for x in range(arg2[15]):\n",
    "            dist.append([0,1,1,1,0,0])\n",
    "        for x in range(arg2[16]):\n",
    "            dist.append([0,1,1,0,1,0])\n",
    "        for x in range(arg2[17]):\n",
    "            dist.append([0,1,1,0,0,1])\n",
    "        for x in range(arg2[18]):\n",
    "            dist.append([0,1,0,1,1,0])\n",
    "        for x in range(arg2[19]):\n",
    "            dist.append([0,1,0,1,0,1])\n",
    "        for x in range(arg2[20]):\n",
    "            dist.append([0,1,0,0,1,1])\n",
    "        for x in range(arg2[21]):\n",
    "            dist.append([0,0,1,1,1,0])\n",
    "        for x in range(arg2[22]):\n",
    "            dist.append([0,0,1,1,0,1])\n",
    "        for x in range(arg2[23]):\n",
    "            dist.append([0,0,1,0,1,1])\n",
    "        for x in range(arg2[24]):\n",
    "            dist.append([0,0,0,1,1,1])\n",
    "        for x in range(arg2[25]):\n",
    "            dist.append([0,1,1,1,1,0])\n",
    "        for x in range(arg2[26]):\n",
    "            dist.append([0,1,1,1,0,1])\n",
    "        for x in range(arg2[27]):\n",
    "            dist.append([0,1,1,0,1,1])\n",
    "        for x in range(arg2[28]):\n",
    "            dist.append([0,1,0,1,1,1])\n",
    "        for x in range(arg2[29]):\n",
    "            dist.append([0,0,1,1,1,1])\n",
    "        for x in range(arg2[30]):\n",
    "            dist.append([0,1,1,1,1,1])\n",
    "    return dist\n",
    "\n",
    "dist = Z_mtx_creation(3,[4,1,2,0,0,3,5])\n",
    "\n",
    "print(np.array(dist))\n",
    "# dist = Z_mtx_creation(3,[3,4,1,0,5,1,1])\n",
    "# dist2 = Z_mtx_creation(5,[1,1,1,1,1,1,2,3,0,0,0,0,0,0,0,1,1,2,0,0,0,0,0,0,0,0,0,0,0,0,5])\n",
    "# print(dist)\n",
    "# print(dist2)\n"
   ]
  },
  {
   "cell_type": "code",
   "execution_count": 2,
   "metadata": {
    "collapsed": false
   },
   "outputs": [
    {
     "data": {
      "text/plain": [
       "15"
      ]
     },
     "execution_count": 2,
     "metadata": {},
     "output_type": "execute_result"
    }
   ],
   "source": [
    "sum(clone_muts)"
   ]
  },
  {
   "cell_type": "code",
   "execution_count": 16,
   "metadata": {
    "collapsed": true
   },
   "outputs": [],
   "source": [
    "num_clones=4"
   ]
  },
  {
   "cell_type": "code",
   "execution_count": 38,
   "metadata": {
    "collapsed": true
   },
   "outputs": [],
   "source": [
    "import numpy as np\n",
    "import itertools\n",
    "num_clones = 3\n",
    "clone_muts = [4,1,2,0,0,3,5]\n",
    "z_mat = []"
   ]
  },
  {
   "cell_type": "code",
   "execution_count": 40,
   "metadata": {
    "collapsed": false,
    "scrolled": true
   },
   "outputs": [
    {
     "data": {
      "text/plain": [
       "[[0, 1, 0, 0],\n",
       " [0, 0, 1, 0],\n",
       " [0, 0, 0, 1],\n",
       " [0, 1, 1, 0],\n",
       " [0, 1, 0, 1],\n",
       " [0, 0, 1, 1],\n",
       " [0, 1, 1, 1]]"
      ]
     },
     "execution_count": 40,
     "metadata": {},
     "output_type": "execute_result"
    }
   ],
   "source": [
    "possible_seqs = []\n",
    "for num_ones in range(num_clones):\n",
    "    possible_seqs += [[0]+np.bincount(xs, minlength=num_clones).tolist() \\\n",
    "                      for xs in itertools.combinations(range(num_clones), (num_ones+1))]\n",
    "possible_seqs"
   ]
  },
  {
   "cell_type": "code",
   "execution_count": 36,
   "metadata": {
    "collapsed": false
   },
   "outputs": [
    {
     "data": {
      "text/plain": [
       "[[1, 0, 0],\n",
       " [1, 0, 0],\n",
       " [1, 0, 0],\n",
       " [1, 0, 0],\n",
       " [0, 1, 0],\n",
       " [0, 0, 1],\n",
       " [0, 0, 1],\n",
       " [0, 1, 1],\n",
       " [0, 1, 1],\n",
       " [0, 1, 1],\n",
       " [1, 1, 1],\n",
       " [1, 1, 1],\n",
       " [1, 1, 1],\n",
       " [1, 1, 1],\n",
       " [1, 1, 1]]"
      ]
     },
     "execution_count": 36,
     "metadata": {},
     "output_type": "execute_result"
    }
   ],
   "source": [
    "if len(clone_muts) != (2**num_clones - 1): #2^n-1 possible subsets of clones\n",
    "    print(\"Invalid clone_muts list size!\")\n",
    "else:\n",
    "    for pairing_index in range(len(clone_muts)):\n",
    "        for i in range(clone_muts[pairing_index]):\n",
    "            z_mat.append(possible_seqs[pairing_index])\n",
    "z_mat"
   ]
  },
  {
   "cell_type": "code",
   "execution_count": null,
   "metadata": {
    "collapsed": true
   },
   "outputs": [],
   "source": []
  }
 ],
 "metadata": {
  "anaconda-cloud": {},
  "kernelspec": {
   "display_name": "Python [python3]",
   "language": "python",
   "name": "Python [python3]"
  },
  "language_info": {
   "codemirror_mode": {
    "name": "ipython",
    "version": 3
   },
   "file_extension": ".py",
   "mimetype": "text/x-python",
   "name": "python",
   "nbconvert_exporter": "python",
   "pygments_lexer": "ipython3",
   "version": "3.5.2"
  }
 },
 "nbformat": 4,
 "nbformat_minor": 0
}
