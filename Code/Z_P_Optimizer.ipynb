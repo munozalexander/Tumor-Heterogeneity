{
 "cells": [
  {
   "cell_type": "code",
   "execution_count": 126,
   "metadata": {
    "collapsed": true
   },
   "outputs": [],
   "source": [
    "%matplotlib inline\n",
    "import matplotlib.pyplot as plt\n",
    "import numpy as np\n",
    "import itertools"
   ]
  },
  {
   "cell_type": "code",
   "execution_count": 155,
   "metadata": {
    "collapsed": false
   },
   "outputs": [],
   "source": [
    "class Z_P_Optimizer(object):\n",
    "    ''' \n",
    "    Generates a C from standard uniform, then determines corresponding Z and P\n",
    "    - N is number of loci,\n",
    "    - M is number of samples,\n",
    "    - C_num is number of clustered clones\n",
    "    '''\n",
    "    \n",
    "    def __init__(self, loci_num=5, samples_num=5, clones_num=3):\n",
    "        self.N = loci_num\n",
    "        self.M = samples_num\n",
    "        self.C_num = clones_num\n",
    "    \n",
    "    def draw_C_matrix(self, print_bool=False):\n",
    "        ''' Draw a C matrix from standard uniform given dimensions '''\n",
    "        C_matrix = np.zeros((self.N, self.M))\n",
    "        for col in range(self.N):\n",
    "            for row in range(self.M):\n",
    "                C_matrix[row][col] = np.random.uniform()\n",
    "        if print_bool:\n",
    "            print(C_matrix)\n",
    "        return C_matrix\n",
    "    \n",
    "    def enumerate_Z_cols(self, print_bool=False):\n",
    "        ''' List possible columns for a Z matrix given dimensions '''\n",
    "        possible_Z_cols = []\n",
    "        for num_ones in range(self.N):\n",
    "            possible_Z_cols += [np.bincount(xs, minlength=(self.N)).tolist()\\\n",
    "                           for xs in itertools.combinations(range(self.N), (num_ones+1))]\n",
    "        return possible_Z_cols\n",
    "    \n",
    "    def generate_Zs(self):\n",
    "        ''' Generate possible Z matrices '''\n",
    "        possible_Z_cols = self.enumerate_Z_cols()\n",
    "        np.random.shuffle(possible_Z_cols)\n",
    "        combos = itertools.combinations(possible_Z_cols, (self.C_num))\n",
    "        possible_Zs = [np.array(c).T for c in combos]\n",
    "        return possible_Zs\n",
    "    \n",
    "    def scale_P(self, P_in, print_bool=False):\n",
    "        ''' Create a valid P matrix by dropping negative probabilities and forcing\n",
    "            columns to sum to 1 '''\n",
    "        P_out = np.zeros((self.C_num, self.M))\n",
    "        for col_num in range(self.M):\n",
    "            curr_col = P_in[:,col_num]\n",
    "            dropped_negs = [c if c>0 else 0 for c in curr_col]\n",
    "            scaled = dropped_negs / np.sum(dropped_negs)\n",
    "            P_out[:,col_num] = scaled\n",
    "        if print_bool:\n",
    "            print(P_out)\n",
    "        return P_out\n",
    "    \n",
    "    def generate_Zs_Ps_error(self):\n",
    "        ''' Generate corresponding P matrices from Z and C\n",
    "            Returns Zs, valid Ps, and sum of residuals (squared Euclidean 2-norm) '''\n",
    "        C_matrix = self.draw_C_matrix()\n",
    "        possible_Zs = self.generate_Zs()\n",
    "        possible_Ps = []\n",
    "        errors = []\n",
    "        for possible_Z in possible_Zs:\n",
    "            curr_P_solved = np.linalg.lstsq(possible_Z, C_matrix)\n",
    "            curr_P_scaled = self.scale_P(curr_P_solved[0])\n",
    "            curr_resids = (C_matrix - np.dot(possible_Z, curr_P_scaled))**2\n",
    "            curr_error = np.sum(np.sum(curr_resids))\n",
    "            possible_Ps.append(curr_P_scaled)\n",
    "            errors.append(curr_error)\n",
    "        return (possible_Zs, possible_Ps, errors)\n",
    "    \n",
    "    def plot_errors(self):\n",
    "        ''' Plot error graph (x-axis is enumerated Z, y-axis is sum of residuals) '''\n",
    "        Zs, Ps, errs = self.generate_Zs_Ps_error()\n",
    "        plt.figure()\n",
    "        plt.plot(errs)\n",
    "        plt.title('Sum of Squared Euclidean 2-Norms Vs Enumerated Z')\n",
    "        plt.xlabel('Enumerated Z index')\n",
    "        plt.ylabel('Sum of Residuals')\n",
    "        plt.show()\n",
    "        \n",
    "    def optimal_Z_P(self, C_in=None, print_bool=False):\n",
    "        ''' Generate optimal Z and P given a generated C, or pass in C as input '''\n",
    "        if C_in == None:\n",
    "            C_matrix = self.draw_C_matrix()\n",
    "        else:\n",
    "            C_matrix = C_in\n",
    "        Zs, Ps, errs = self.generate_Zs_Ps_error()\n",
    "        min_index = np.argmin(errs)\n",
    "        optimals = Zs[min_index], Ps[min_index], errs[min_index]\n",
    "        if print_bool:\n",
    "            print('Input C:')\n",
    "            for row in C_matrix:\n",
    "                print(row)\n",
    "            print()\n",
    "            print('Optimal Z:')\n",
    "            for row in Zs[min_index]:\n",
    "                print(row)\n",
    "            print()\n",
    "            print('Optimal P:')\n",
    "            for row in Ps[min_index]:\n",
    "                print(row)\n",
    "            print()\n",
    "            print('Error:')\n",
    "            print(errs[min_index])\n",
    "        return optimals"
   ]
  },
  {
   "cell_type": "code",
   "execution_count": 158,
   "metadata": {
    "collapsed": false,
    "scrolled": true
   },
   "outputs": [
    {
     "data": {
      "image/png": "[encoded data removed]",
      "text/plain": [
       "<matplotlib.figure.Figure at 0x10b9f7cf8>"
      ]
     },
     "metadata": {},
     "output_type": "display_data"
    }
   ],
   "source": [
    "opt = Z_P_Optimizer()\n",
    "opt.plot_errors()"
   ]
  },
  {
   "cell_type": "code",
   "execution_count": 160,
   "metadata": {
    "collapsed": false
   },
   "outputs": [
    {
     "name": "stdout",
     "output_type": "stream",
     "text": [
      "Input C:\n",
      "[ 0.14002701  0.09339353  0.60407433  0.6208501   0.79795465]\n",
      "[ 0.42775514  0.61776917  0.07214448  0.91975247  0.71712662]\n",
      "[ 0.23710541  0.04969988  0.33276276  0.86543634  0.62344616]\n",
      "[ 0.0769311   0.17553549  0.34281903  0.09111558  0.95750815]\n",
      "[ 0.60304589  0.6323414   0.36072169  0.71794592  0.17026575]\n",
      "\n",
      "Optimal Z:\n",
      "[0 1 0]\n",
      "[1 1 0]\n",
      "[1 0 1]\n",
      "[1 0 0]\n",
      "[0 1 0]\n",
      "\n",
      "Optimal P:\n",
      "[ 0.          0.          0.07083252  0.37859035  0.60146844]\n",
      "[ 0.42327199  0.30319497  0.7543355   0.62140965  0.18173207]\n",
      "[ 0.57672801  0.69680503  0.17483197  0.          0.21679949]\n",
      "\n",
      "Error:\n",
      "0.89301933408\n"
     ]
    }
   ],
   "source": [
    "z_opt, p_opt, err_opt = opt.optimal_Z_P(print_bool=True)"
   ]
  },
  {
   "cell_type": "code",
   "execution_count": null,
   "metadata": {
    "collapsed": true
   },
   "outputs": [],
   "source": []
  }
 ],
 "metadata": {
  "anaconda-cloud": {},
  "kernelspec": {
   "display_name": "Python [python3]",
   "language": "python",
   "name": "Python [python3]"
  },
  "language_info": {
   "codemirror_mode": {
    "name": "ipython",
    "version": 3
   },
   "file_extension": ".py",
   "mimetype": "text/x-python",
   "name": "python",
   "nbconvert_exporter": "python",
   "pygments_lexer": "ipython3",
   "version": "3.5.2"
  }
 },
 "nbformat": 4,
 "nbformat_minor": 0
}
